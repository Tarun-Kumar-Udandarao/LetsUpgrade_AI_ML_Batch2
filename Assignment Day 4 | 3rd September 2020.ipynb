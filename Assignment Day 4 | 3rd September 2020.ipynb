{
 "cells": [
  {
   "cell_type": "code",
   "execution_count": 5,
   "metadata": {},
   "outputs": [
    {
     "name": "stdout",
     "output_type": "stream",
     "text": [
      "8+6j\n",
      "4+2j\n",
      "a= (8+6j)\n",
      "b= (4+2j)\n",
      "a+b= (12+8j)\n",
      "a-b= (4+4j)\n",
      "a*b= (20+40j)\n",
      "a/b= (2.2+0.4j)\n"
     ]
    },
    {
     "ename": "TypeError",
     "evalue": "can't take floor of complex number.",
     "output_type": "error",
     "traceback": [
      "\u001b[0;31m---------------------------------------------------------------------------\u001b[0m",
      "\u001b[0;31mTypeError\u001b[0m                                 Traceback (most recent call last)",
      "\u001b[0;32m<ipython-input-5-753abf37c0b0>\u001b[0m in \u001b[0;36m<module>\u001b[0;34m\u001b[0m\n\u001b[1;32m     11\u001b[0m \u001b[0mprint\u001b[0m\u001b[0;34m(\u001b[0m\u001b[0;34m\"a*b=\"\u001b[0m\u001b[0;34m,\u001b[0m\u001b[0ma\u001b[0m\u001b[0;34m*\u001b[0m\u001b[0mb\u001b[0m\u001b[0;34m)\u001b[0m\u001b[0;34m\u001b[0m\u001b[0;34m\u001b[0m\u001b[0m\n\u001b[1;32m     12\u001b[0m \u001b[0mprint\u001b[0m\u001b[0;34m(\u001b[0m\u001b[0;34m\"a/b=\"\u001b[0m\u001b[0;34m,\u001b[0m\u001b[0ma\u001b[0m\u001b[0;34m/\u001b[0m\u001b[0mb\u001b[0m\u001b[0;34m)\u001b[0m\u001b[0;34m\u001b[0m\u001b[0;34m\u001b[0m\u001b[0m\n\u001b[0;32m---> 13\u001b[0;31m \u001b[0mprint\u001b[0m\u001b[0;34m(\u001b[0m\u001b[0;34m\"a//b=\"\u001b[0m\u001b[0;34m,\u001b[0m\u001b[0ma\u001b[0m\u001b[0;34m//\u001b[0m\u001b[0mb\u001b[0m\u001b[0;34m)\u001b[0m\u001b[0;34m\u001b[0m\u001b[0;34m\u001b[0m\u001b[0m\n\u001b[0m\u001b[1;32m     14\u001b[0m \u001b[0mprint\u001b[0m\u001b[0;34m(\u001b[0m\u001b[0;34m\"a%b=\"\u001b[0m\u001b[0;34m,\u001b[0m\u001b[0ma\u001b[0m\u001b[0;34m%\u001b[0m\u001b[0mb\u001b[0m\u001b[0;34m)\u001b[0m\u001b[0;34m\u001b[0m\u001b[0;34m\u001b[0m\u001b[0m\n",
      "\u001b[0;31mTypeError\u001b[0m: can't take floor of complex number."
     ]
    }
   ],
   "source": [
    "'''Question 1 :\n",
    "Research on whether addition, subtraction, multiplication, division, floor division, and modulo operations\n",
    "be performed on complex numbers. Based on your study, implement a Python program to demonstrate\n",
    "these operations.'''\n",
    "a=complex(input())\n",
    "b=complex(input())\n",
    "print(\"a=\",a)\n",
    "print(\"b=\",b)\n",
    "print(\"a+b=\",a+b)\n",
    "print(\"a-b=\",a-b)\n",
    "print(\"a*b=\",a*b)\n",
    "print(\"a/b=\",a/b)\n",
    "print(\"a//b=\",a//b)\n",
    "print(\"a%b=\",a%b)"
   ]
  },
  {
   "cell_type": "markdown",
   "metadata": {},
   "source": [
    "__Question 2 :\n",
    "Research on range() functions and its parameters. Create a markdown cell and write in your own words\n",
    "(no copy-paste from google please) what you understand about it. Implement a small program of your\n",
    "choice on the same.__\n",
    "\n",
    "range()\n",
    "--\n",
    "range() is a built in function in python. This function is used when there is a repeating operation. That means this range() function is mainly used in iterative operations.\n",
    "The range function consits of three parameters:\n",
    "\n",
    "__start__:\n",
    "It is the starting parameter, from here the iterative value starts. And default start parameter value is 0.\n",
    "__stop__:\n",
    "It is the ending parameter, the sequence will stops when it reaches the stop parameter.\n",
    "__step__:\n",
    "Step parameter decides the increment value in the sequence. And the default increment value is 1.\n",
    "\n",
    "range() function declared as:\n",
    "\n",
    "___range(n)___\n",
    "In this above declaration the n value is the stop value and the loop is iterated for n number of times, with default start value i.e., 0 and default step value i.e., 1. Though the start value is the execution will stops at n-1 value which equals to n iterations.\n",
    "\n",
    "___range(m,n)___\n",
    "In the above declaration m value is the start value and the n value is the stop value with the default step value as 1. In this type of range function declation, if there is a requirement of a iterations, then n value should be n=a+1, because in the range function, the loop iterates upto n-1 for a stop value of n that means n-1 iterations.\n",
    "\n",
    "___range(m,n,step)___\n",
    "In the above declaration m, n, step are start, stop and step values respectively. In this type of declaration of range() function start, stop and step values are to be declared, no default values are taken unless the declared value is a default value."
   ]
  },
  {
   "cell_type": "code",
   "execution_count": 12,
   "metadata": {},
   "outputs": [
    {
     "name": "stdout",
     "output_type": "stream",
     "text": [
      "5\n",
      "Hello \t\n",
      "Hello \t\n",
      "Hello \t\n",
      "Hello \t\n",
      "Hello \t\n",
      "\n",
      "\n",
      "Welcome \t\n",
      "Welcome \t\n",
      "Welcome \t\n",
      "Welcome \t\n",
      "\n",
      "\n",
      "Bye \t\n",
      "Bye \t\n"
     ]
    }
   ],
   "source": [
    "N=int(input())\n",
    "for i in range(N):\n",
    "    print(\"Hello\",\"\\t\")\n",
    "print(\"\\n\")\n",
    "for i in range(1,N):\n",
    "    print(\"Welcome\", \"\\t\")\n",
    "print(\"\\n\")\n",
    "for i in range(1,N,2):\n",
    "    print(\"Bye\", \"\\t\")"
   ]
  },
  {
   "cell_type": "code",
   "execution_count": 20,
   "metadata": {},
   "outputs": [
    {
     "name": "stdout",
     "output_type": "stream",
     "text": [
      "987\n",
      "654\n",
      "a= 987 b= 654 a-b= 333\n",
      "a-b is greater than 25 \n",
      " a*b= 645498\n"
     ]
    }
   ],
   "source": [
    "'''Question 3:\n",
    "Consider two numbers. Perform their subtraction and if the result of subtraction is greater than 25, print\n",
    "their multiplication result else print their division result.'''\n",
    "a=int(input())\n",
    "b=int(input())\n",
    "print(\"a=\",a,\"b=\",b,\"a-b=\",a-b)\n",
    "if(a-b>25):\n",
    "    print(\"a-b is greater than 25\",\"\\n\",\"a*b=\",a*b)"
   ]
  },
  {
   "cell_type": "code",
   "execution_count": 32,
   "metadata": {},
   "outputs": [
    {
     "name": "stdout",
     "output_type": "stream",
     "text": [
      "12\n",
      "321\n",
      "564\n",
      "859\n",
      "452\n",
      "124\n",
      "785\n",
      "7475\n",
      "1235\n",
      "1456\n",
      "12 square of that number minus 2= 142\n",
      "564 square of that number minus 2= 318094\n",
      "452 square of that number minus 2= 204302\n",
      "124 square of that number minus 2= 15374\n",
      "1456 square of that number minus 2= 2119934\n"
     ]
    }
   ],
   "source": [
    "'''Question 4:\n",
    "Consider a list of 10 elements of integer values. If the number in the list is divisible by 2, print the result as\n",
    "\"square of that number minus 2\".'''\n",
    "l=[]\n",
    "for j in range(10):\n",
    "    l.append(int(input()))\n",
    "for i in range(10):\n",
    "    if(l[i]%2==0):\n",
    "        print(l[i],\"square of that number minus 2=\",(l[i]**2)-2)"
   ]
  },
  {
   "cell_type": "code",
   "execution_count": 35,
   "metadata": {},
   "outputs": [
    {
     "name": "stdout",
     "output_type": "stream",
     "text": [
      "1\n",
      "2\n",
      "3\n",
      "4\n",
      "456\n",
      "7854\n",
      "695\n",
      "4559\n",
      "7\n",
      "4586\n",
      "The number is greater than 7 and divided by 2 is 456\n",
      "The number is greater than 7 and divided by 2 is 7854\n",
      "The number is greater than 7 and divided by 2 is 4586\n"
     ]
    }
   ],
   "source": [
    "'''Question 5:\n",
    "Consider a list of 10 elements. Print all the elements in the list which are greater than 7 when that number\n",
    "is divided 2.'''\n",
    "l=[]\n",
    "for j in range(10):\n",
    "    l.append(int(input()))\n",
    "for i in range(10):\n",
    "    if(l[i]%2==0 and l[i]>7):\n",
    "        print(\"The number is greater than 7 and divided by 2 is\",l[i])"
   ]
  }
 ],
 "metadata": {
  "kernelspec": {
   "display_name": "Python 3",
   "language": "python",
   "name": "python3"
  },
  "language_info": {
   "codemirror_mode": {
    "name": "ipython",
    "version": 3
   },
   "file_extension": ".py",
   "mimetype": "text/x-python",
   "name": "python",
   "nbconvert_exporter": "python",
   "pygments_lexer": "ipython3",
   "version": "3.8.3"
  }
 },
 "nbformat": 4,
 "nbformat_minor": 4
}
