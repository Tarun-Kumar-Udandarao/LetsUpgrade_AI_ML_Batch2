{
 "cells": [
  {
   "cell_type": "code",
   "execution_count": 18,
   "metadata": {},
   "outputs": [
    {
     "name": "stdout",
     "output_type": "stream",
     "text": [
      "3\n",
      "5\n",
      "7\n",
      "11\n",
      "13\n",
      "17\n",
      "19\n",
      "23\n",
      "29\n",
      "31\n",
      "37\n",
      "41\n",
      "43\n",
      "47\n",
      "53\n",
      "59\n",
      "61\n",
      "67\n",
      "71\n",
      "73\n"
     ]
    }
   ],
   "source": [
    "'''Question 1 :\n",
    "Write a Python program to find the first 20 non-even prime natural numbers.'''\n",
    "import math\n",
    "l=[]\n",
    "for i in range(3,100):\n",
    "    flag=0\n",
    "    for j in range(2,i//2+1):\n",
    "        if((i%j)==0):\n",
    "            flag=1\n",
    "            break\n",
    "    if(flag==0):\n",
    "        l.append(i)\n",
    "for i in range(20):\n",
    "    print(l[i])"
   ]
  },
  {
   "cell_type": "code",
   "execution_count": 43,
   "metadata": {},
   "outputs": [
    {
     "name": "stdout",
     "output_type": "stream",
     "text": [
      "tarun kumar udandarao\n",
      "TARUN KUMAR UDANDARAO\n",
      "**************Tarun Kumar Udandarao***************\n",
      "Tarun Kumar Udandarao--------------\n",
      "--------------Tarun Kumar Udandarao\n",
      "['Tarun', 'Kumar', 'Udandarao']\n",
      "Tarun_Kumar_Udandarao\n",
      "False\n",
      "False\n",
      "True\n",
      "False\n",
      "True\n",
      "False\n",
      "b'Tarun Kumar Udandarao'\n",
      "2\n",
      "-1\n",
      "5\n"
     ]
    }
   ],
   "source": [
    "'''Question 2 :\n",
    "Write a Python program to implement 15 functions of string.'''\n",
    "name=\"Tarun Kumar Udandarao\"\n",
    "print(name.lower())\n",
    "print(name.upper())\n",
    "print(name.center(50,'*'))\n",
    "print(name.ljust(35,'-'))\n",
    "print(name.rjust(35,'-'))\n",
    "print(name.split())\n",
    "print('_'.join((name.split())))\n",
    "print(name.islower())\n",
    "print(name.isupper())\n",
    "print(name.istitle())\n",
    "print(name.isalnum())\n",
    "print(name.isascii())\n",
    "print(name.isdigit())\n",
    "print(name.encode())\n",
    "print(name.find('r'))\n",
    "print(name.find('z'))\n",
    "print(name.count('a'))"
   ]
  },
  {
   "cell_type": "code",
   "execution_count": 48,
   "metadata": {},
   "outputs": [
    {
     "name": "stdout",
     "output_type": "stream",
     "text": [
      "listen\n",
      "silent\n",
      "Anagram\n"
     ]
    }
   ],
   "source": [
    "'''Question 3:\n",
    "Write a Python program to check if the given string is a Palindrome or Anagram or None of them. Display\n",
    "the message accordingly to the user.'''\n",
    "s1=input()\n",
    "s2=input()\n",
    "if((s1[:]) == (s1[::-1])):\n",
    "    print(\"Palindrome\")\n",
    "elif(sorted(s1)==sorted(s2)):\n",
    "    print(\"Anagram\")\n",
    "else:\n",
    "    print(\"None of the above\")"
   ]
  },
  {
   "cell_type": "code",
   "execution_count": 51,
   "metadata": {},
   "outputs": [
    {
     "name": "stdout",
     "output_type": "stream",
     "text": [
      "Dr. Darshan Ingle @AIML Trainer\n",
      "drdarshaningleaimltrainer\n"
     ]
    }
   ],
   "source": [
    "'''Question 4:\n",
    "Write a Python's user-defined function that removes all the additional characters from the string and\n",
    "convert it finally to lower case using built-in lower(). eg: If the string is \"Dr. Darshan Ingle @AIML Trainer\",\n",
    "then the output be \"drdarshaningleaimltrainer\".'''\n",
    "def removeadditionalchar(a):\n",
    "    l=[]\n",
    "    for i in m:\n",
    "        if i.isalpha():\n",
    "            if i.isupper():\n",
    "                l.append(i.lower())\n",
    "            else:\n",
    "                l.append(i)\n",
    "    s=''.join(l)\n",
    "    return s\n",
    "a=input()\n",
    "print(removeadditionalchar(a))"
   ]
  }
 ],
 "metadata": {
  "kernelspec": {
   "display_name": "Python 3",
   "language": "python",
   "name": "python3"
  },
  "language_info": {
   "codemirror_mode": {
    "name": "ipython",
    "version": 3
   },
   "file_extension": ".py",
   "mimetype": "text/x-python",
   "name": "python",
   "nbconvert_exporter": "python",
   "pygments_lexer": "ipython3",
   "version": "3.8.3"
  }
 },
 "nbformat": 4,
 "nbformat_minor": 4
}
