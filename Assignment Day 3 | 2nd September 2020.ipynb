{
 "cells": [
  {
   "cell_type": "code",
   "execution_count": 5,
   "metadata": {},
   "outputs": [
    {
     "name": "stdout",
     "output_type": "stream",
     "text": [
      "(3-2j)\n"
     ]
    }
   ],
   "source": [
    "#Question 1:\n",
    "#Write a program to subtract two complex numbers in Python.\n",
    "a=5+7j\n",
    "b=2+9j\n",
    "c=a-b\n",
    "print(c)"
   ]
  },
  {
   "cell_type": "code",
   "execution_count": 28,
   "metadata": {},
   "outputs": [
    {
     "name": "stdout",
     "output_type": "stream",
     "text": [
      "4.0\n"
     ]
    }
   ],
   "source": [
    "#Question 2 :\n",
    "#Write a program to find the fourth root of a number.\n",
    "number=256\n",
    "sqrt_num=number**(1/4)\n",
    "print(sqrt_num)"
   ]
  },
  {
   "cell_type": "code",
   "execution_count": 29,
   "metadata": {},
   "outputs": [
    {
     "name": "stdout",
     "output_type": "stream",
     "text": [
      "Before swapping a= 10 b= 20\n",
      "After swapping a= 20 b= 10\n"
     ]
    }
   ],
   "source": [
    "#Question 3:\n",
    "#Write a program to swap two numbers in Python with the help of a temporary variable.\n",
    "a=10\n",
    "b=20\n",
    "print(\"Before swapping a=\",a,\"b=\",b)\n",
    "temp=a\n",
    "a=b\n",
    "b=temp\n",
    "print(\"After swapping a=\",a,\"b=\",b)"
   ]
  },
  {
   "cell_type": "code",
   "execution_count": 30,
   "metadata": {},
   "outputs": [
    {
     "name": "stdout",
     "output_type": "stream",
     "text": [
      "Before swapping a= 78 b= 54\n",
      "After swapping a= 54 b= 78\n"
     ]
    }
   ],
   "source": [
    "#Question 4:\n",
    "#Write a program to swap two numbers in Python without using a temporary variable.\n",
    "a=78\n",
    "b=54\n",
    "print(\"Before swapping a=\",a,\"b=\",b)\n",
    "a=a+b\n",
    "b=a-b\n",
    "a=a-b\n",
    "print(\"After swapping a=\",a,\"b=\",b)"
   ]
  },
  {
   "cell_type": "code",
   "execution_count": 31,
   "metadata": {},
   "outputs": [
    {
     "name": "stdout",
     "output_type": "stream",
     "text": [
      "Fahrenheit= 95 °F\n",
      "Celsius= 35.0 °C\n",
      "Kelvin= 308.15 K\n"
     ]
    }
   ],
   "source": [
    "#Question 5:\n",
    "#Write a program to convert Fahrenheit to kelvin and celsius both.\n",
    "Fahrenheit=95\n",
    "Celsius=(Fahrenheit-32)*(5/9)\n",
    "Kelvin=(Fahrenheit-32)*(5/9)+273.15\n",
    "print(\"Fahrenheit=\",Fahrenheit,\"°F\")\n",
    "print(\"Celsius=\",Celsius,\"°C\")\n",
    "print(\"Kelvin=\",Kelvin,\"K\")"
   ]
  },
  {
   "cell_type": "code",
   "execution_count": 32,
   "metadata": {},
   "outputs": [
    {
     "name": "stdout",
     "output_type": "stream",
     "text": [
      "a= <class 'int'> \n",
      " b= <class 'str'> \n",
      " c= <class 'float'> \n",
      " d= <class 'complex'> \n",
      " e= <class 'tuple'>\n"
     ]
    }
   ],
   "source": [
    "#Question 6:\n",
    "#Write a program to demonstrate all the available data types in Python. Hint: Use type() function.\n",
    "a=12\n",
    "b=\"hello\"\n",
    "c=36.3\n",
    "d=6.9+2j\n",
    "e=1,2,3\n",
    "print(\"a=\",type(a),\"\\n\",\"b=\",type(b),\"\\n\",\"c=\",type(c),\"\\n\",\"d=\",type(d),\"\\n\",\"e=\",type(e))"
   ]
  }
 ],
 "metadata": {
  "kernelspec": {
   "display_name": "Python 3",
   "language": "python",
   "name": "python3"
  },
  "language_info": {
   "codemirror_mode": {
    "name": "ipython",
    "version": 3
   },
   "file_extension": ".py",
   "mimetype": "text/x-python",
   "name": "python",
   "nbconvert_exporter": "python",
   "pygments_lexer": "ipython3",
   "version": "3.8.3"
  }
 },
 "nbformat": 4,
 "nbformat_minor": 4
}
