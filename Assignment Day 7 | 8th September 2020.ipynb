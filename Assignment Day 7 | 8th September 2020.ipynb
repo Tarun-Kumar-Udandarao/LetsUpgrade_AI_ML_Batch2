{
 "cells": [
  {
   "cell_type": "markdown",
   "metadata": {},
   "source": [
    "Question 1:\n",
    "--\n",
    "__Write a program to copy the contents of one file to another using a for loop. (Don’t use built-in copy\n",
    "function)__"
   ]
  },
  {
   "cell_type": "code",
   "execution_count": 5,
   "metadata": {},
   "outputs": [],
   "source": [
    "f=open(\"file1.txt\",'w')\n",
    "f.write('In this file I am writing to copy these contents to another file')\n",
    "f.write('\\nTrying to copy the content of this file to another file without using in built copy function')\n",
    "f.close()"
   ]
  },
  {
   "cell_type": "code",
   "execution_count": 9,
   "metadata": {},
   "outputs": [],
   "source": [
    "f=open(\"file1.txt\",'r')\n",
    "f1=open(\"file2.txt\",'w')\n",
    "for i in f.readlines():\n",
    "    f1.write(i)\n",
    "f.close()\n",
    "f1.close()"
   ]
  },
  {
   "cell_type": "code",
   "execution_count": 14,
   "metadata": {},
   "outputs": [
    {
     "name": "stdout",
     "output_type": "stream",
     "text": [
      "In this file I am writing to copy these contents to another file\n",
      "Trying to copy the content of this file to another file without using in built copy function\n",
      "\n"
     ]
    }
   ],
   "source": [
    "f=open(\"file1.txt\",'r')\n",
    "print(f.read())\n",
    "f1=open(\"file2.txt\",'r')\n",
    "print(f1.read())\n"
   ]
  },
  {
   "cell_type": "markdown",
   "metadata": {},
   "source": [
    "Question 2:\n",
    "--\n",
    "__Write a Python program to find maximum and minimum values in the dictionary. Do not use built-in min\n",
    "and max functions.__"
   ]
  },
  {
   "cell_type": "code",
   "execution_count": 29,
   "metadata": {},
   "outputs": [
    {
     "name": "stdout",
     "output_type": "stream",
     "text": [
      "Enter key:5\n",
      "Enter value:s\n",
      "Enter key:2\n",
      "Enter value:c\n",
      "Enter key:4\n",
      "Enter value:Z\n",
      "Enter key:P\n",
      "Enter value:o\n",
      "Enter key:8\n",
      "Enter value:V\n",
      "{'5': 's', '2': 'c', '4': 'Z', 'P': 'o', '8': 'V'}\n",
      "Minimum Value= V\n",
      "Maximum Value= s\n"
     ]
    }
   ],
   "source": [
    "import math\n",
    "d={}\n",
    "for i in range(5):\n",
    "    key=input(\"Enter key:\")\n",
    "    value=input(\"Enter value:\")\n",
    "    d[key]=value\n",
    "print(d)\n",
    "# print(d.values())\n",
    "max=-math.inf\n",
    "min=math.inf\n",
    "for key in d:\n",
    "    if(max<ord(d[key])):\n",
    "        max=ord(d[key])\n",
    "    if(min>ord(d[key])):\n",
    "        min=ord(d[key])\n",
    "print(\"Minimum Value=\",chr(min))\n",
    "print(\"Maximum Value=\",chr(max))"
   ]
  }
 ],
 "metadata": {
  "kernelspec": {
   "display_name": "Python 3",
   "language": "python",
   "name": "python3"
  },
  "language_info": {
   "codemirror_mode": {
    "name": "ipython",
    "version": 3
   },
   "file_extension": ".py",
   "mimetype": "text/x-python",
   "name": "python",
   "nbconvert_exporter": "python",
   "pygments_lexer": "ipython3",
   "version": "3.8.3"
  }
 },
 "nbformat": 4,
 "nbformat_minor": 4
}
