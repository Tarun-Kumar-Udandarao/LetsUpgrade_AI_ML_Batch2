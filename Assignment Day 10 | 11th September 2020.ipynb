{
 "cells": [
  {
   "cell_type": "markdown",
   "metadata": {},
   "source": [
    "Question 1:\n",
    "--\n",
    "__Create an element-wise comparison (greater, greater_equal, less and less_equal) of two given arrays__"
   ]
  },
  {
   "cell_type": "code",
   "execution_count": 36,
   "metadata": {},
   "outputs": [
    {
     "name": "stdout",
     "output_type": "stream",
     "text": [
      "Enter array1 elements:1\n",
      "Enter array1 elements:2\n",
      "Enter array1 elements:3\n",
      "Enter array1 elements:4\n",
      "Enter array1 elements:5\n",
      "Enter array1 elements:6\n",
      "Enter array1 elements:7\n",
      "Enter array1 elements:8\n",
      "Enter array1 elements:9\n",
      "Enter array1 elements:10\n",
      "Enter array1 elements:11\n",
      "Enter array1 elements:12\n",
      "Enter array1 elements:13\n",
      "Enter array1 elements:14\n",
      "Enter array1 elements:15\n",
      "Enter array1 elements:16\n",
      "Enter array2 elements:12\n",
      "Enter array2 elements:32\n",
      "Enter array2 elements:1\n",
      "Enter array2 elements:2\n",
      "Enter array2 elements:4\n",
      "Enter array2 elements:6\n",
      "Enter array2 elements:54\n",
      "Enter array2 elements:89\n",
      "Enter array2 elements:34\n",
      "Enter array2 elements:12\n",
      "Enter array2 elements:23\n",
      "Enter array2 elements:32\n",
      "Enter array2 elements:122\n",
      "Enter array2 elements:43\n",
      "Enter array2 elements:43\n",
      "Enter array2 elements:53\n",
      "[[ 1  2  3  4]\n",
      " [ 5  6  7  8]\n",
      " [ 9 10 11 12]\n",
      " [13 14 15 16]]\n",
      "[[ 12  32   1   2]\n",
      " [  4   6  54  89]\n",
      " [ 34  12  23  32]\n",
      " [122  43  43  53]]\n",
      "Comparision greater: [[False False  True  True]\n",
      " [ True False False False]\n",
      " [False False False False]\n",
      " [False False False False]]\n",
      "Comparision greater_equal: [[False False  True  True]\n",
      " [ True  True False False]\n",
      " [False False False False]\n",
      " [False False False False]]\n",
      "Comparision less: [[ True  True False False]\n",
      " [False False  True  True]\n",
      " [ True  True  True  True]\n",
      " [ True  True  True  True]]\n",
      "Comparision less_equal: [[ True  True False False]\n",
      " [False  True  True  True]\n",
      " [ True  True  True  True]\n",
      " [ True  True  True  True]]\n"
     ]
    }
   ],
   "source": [
    "import numpy as np\n",
    "\n",
    "array1=[]\n",
    "for i in range(4):\n",
    "    y=[]\n",
    "    for j in range(4):\n",
    "        y.append(int(input(\"Enter array1 elements:\")))\n",
    "    array1.append(y)\n",
    "array1=np.array(array1)\n",
    "array2=[]\n",
    "for i in range(4):\n",
    "    z=[]\n",
    "    for j in range(4):\n",
    "        z.append(int(input(\"Enter array2 elements:\")))\n",
    "    array2.append(z)\n",
    "array2=np.array(array2)\n",
    "\n",
    "print(array1)\n",
    "print(array2)\n",
    "print(\"Comparision greater:\",np.greater(array1,array2))\n",
    "print(\"Comparision greater_equal:\",np.greater_equal(array1,array2))\n",
    "print(\"Comparision less:\",np.less(array1,array2))\n",
    "print(\"Comparision less_equal:\",np.less_equal(array1,array2))"
   ]
  },
  {
   "cell_type": "markdown",
   "metadata": {},
   "source": [
    "Question 2:\n",
    "--\n",
    "__Write a NumPy program to create an array of 10 zeros,10 ones, 10 fives__"
   ]
  },
  {
   "cell_type": "code",
   "execution_count": 43,
   "metadata": {},
   "outputs": [
    {
     "name": "stdout",
     "output_type": "stream",
     "text": [
      "[0. 0. 0. 0. 0. 0. 0. 0. 0. 0.]\n",
      "[1. 1. 1. 1. 1. 1. 1. 1. 1. 1.]\n",
      "[5. 5. 5. 5. 5. 5. 5. 5. 5. 5.]\n",
      "[5 5 5 5 5 5 5 5 5 5]\n"
     ]
    }
   ],
   "source": [
    "import numpy as np\n",
    "print(np.zeros(10))\n",
    "print(np.ones(10))\n",
    "print(np.ones(10)*5)\n",
    "print(np.full([10],5))"
   ]
  },
  {
   "cell_type": "markdown",
   "metadata": {},
   "source": [
    "Question 3:\n",
    "--\n",
    "__Write a NumPy program to compute sum of all elements, sum of each column and sum of each row of a\n",
    "given array__"
   ]
  },
  {
   "cell_type": "code",
   "execution_count": 45,
   "metadata": {},
   "outputs": [
    {
     "name": "stdout",
     "output_type": "stream",
     "text": [
      "Enter array1 elements:1\n",
      "Enter array1 elements:2\n",
      "Enter array1 elements:3\n",
      "Enter array1 elements:4\n",
      "[[1 2]\n",
      " [3 4]]\n",
      "Sum of array elements= 10\n",
      "Sum of elements in a column [4 6]\n",
      "Sum of elements in a row [3 7]\n"
     ]
    }
   ],
   "source": [
    "import numpy as np\n",
    "\n",
    "array1=[]\n",
    "for i in range(2):\n",
    "    y=[]\n",
    "    for j in range(2):\n",
    "        y.append(int(input(\"Enter array1 elements:\")))\n",
    "    array1.append(y)\n",
    "array1=np.array(array1)\n",
    "print(array1)\n",
    "print(\"Sum of array elements=\",np.sum(array1))\n",
    "print(\"Sum of elements in a column\",np.sum(array1, axis=0))\n",
    "print(\"Sum of elements in a row\",np.sum(array1, axis=1))"
   ]
  },
  {
   "cell_type": "markdown",
   "metadata": {},
   "source": [
    "Question 4:\n",
    "--\n",
    "__Write a NumPy program to add, subtract, multiply, divide arguments element-wise.__"
   ]
  },
  {
   "cell_type": "code",
   "execution_count": 46,
   "metadata": {},
   "outputs": [
    {
     "name": "stdout",
     "output_type": "stream",
     "text": [
      "Enter array1 elements:1\n",
      "Enter array1 elements:2\n",
      "Enter array1 elements:3\n",
      "Enter array1 elements:4\n",
      "Enter array2 elements:5\n",
      "Enter array2 elements:6\n",
      "Enter array2 elements:7\n",
      "Enter array2 elements:8\n",
      "[[1 2]\n",
      " [3 4]]\n",
      "[[5 6]\n",
      " [7 8]]\n",
      "Adding array elements: [[ 6  8]\n",
      " [10 12]]\n",
      "Subtracting array elements: [[-4 -4]\n",
      " [-4 -4]]\n",
      "Multiplying array elements: [[ 5 12]\n",
      " [21 32]]\n",
      "Dividing array elements: [[0.2        0.33333333]\n",
      " [0.42857143 0.5       ]]\n"
     ]
    }
   ],
   "source": [
    "import numpy as np\n",
    "\n",
    "array1=[]\n",
    "for i in range(2):\n",
    "    y=[]\n",
    "    for j in range(2):\n",
    "        y.append(int(input(\"Enter array1 elements:\")))\n",
    "    array1.append(y)\n",
    "array1=np.array(array1)\n",
    "array2=[]\n",
    "for i in range(2):\n",
    "    z=[]\n",
    "    for j in range(2):\n",
    "        z.append(int(input(\"Enter array2 elements:\")))\n",
    "    array2.append(z)\n",
    "array2=np.array(array2)\n",
    "\n",
    "print(array1)\n",
    "print(array2)\n",
    "print(\"Adding array elements:\",np.add(array1,array2))\n",
    "print(\"Subtracting array elements:\",np.subtract(array1,array2))\n",
    "print(\"Multiplying array elements:\",np.multiply(array1,array2))\n",
    "print(\"Dividing array elements:\",np.divide(array1,array2))"
   ]
  },
  {
   "cell_type": "markdown",
   "metadata": {},
   "source": [
    "Question 5:\n",
    "--\n",
    "__Write a NumPy program to compute the trigonometric sine, cosine and tangent array of angles given in\n",
    "degree.__"
   ]
  },
  {
   "cell_type": "code",
   "execution_count": 48,
   "metadata": {},
   "outputs": [
    {
     "name": "stdout",
     "output_type": "stream",
     "text": [
      "Enter array1 elements:0\n",
      "Enter array1 elements:30\n",
      "Enter array1 elements:45\n",
      "Enter array1 elements:24\n",
      "[[ 0 30]\n",
      " [45 24]]\n",
      "Sine= [[0.         0.5       ]\n",
      " [0.70710678 0.40673664]]\n",
      "Cosine= [[1.         0.8660254 ]\n",
      " [0.70710678 0.91354546]]\n",
      "Tangent= [[0.         0.57735027]\n",
      " [1.         0.44522869]]\n"
     ]
    }
   ],
   "source": [
    "import numpy as np\n",
    "\n",
    "array1=[]\n",
    "for i in range(2):\n",
    "    y=[]\n",
    "    for j in range(2):\n",
    "        y.append(int(input(\"Enter array1 elements:\")))\n",
    "    array1.append(y)\n",
    "array1=np.array(array1)\n",
    "print(array1)\n",
    "print(\"Sine=\",np.sin(np.array(array1)* np.pi / 180.))\n",
    "print(\"Cosine=\",np.cos(np.array(array1)* np.pi / 180.))\n",
    "print(\"Tangent=\",np.tan(np.array(array1)* np.pi / 180.))"
   ]
  },
  {
   "cell_type": "markdown",
   "metadata": {},
   "source": [
    "Question 6:\n",
    "--\n",
    "__Write a Pandas program to create and display a DataFrame from a specified dictionary data which has the\n",
    "index labels__"
   ]
  },
  {
   "cell_type": "code",
   "execution_count": 50,
   "metadata": {},
   "outputs": [
    {
     "name": "stdout",
     "output_type": "stream",
     "text": [
      "    Name  Roll_Number Branch  Year\n",
      "i    abc            1    ECE     4\n",
      "ii   def            2    CSE     4\n",
      "iii  ghi            3     IT     4\n",
      "iv   jkl            4    EEE     4\n"
     ]
    }
   ],
   "source": [
    "import pandas as pd\n",
    "import numpy as np\n",
    "\n",
    "class_data={\"Name\":['abc','def','ghi','jkl'],\"Roll_Number\":[1,2,3,4],\"Branch\":['ECE','CSE','IT','EEE'],\"Year\":[4,4,4,4]}\n",
    "labels=['i','ii','iii','iv']\n",
    "df=pd.DataFrame(class_data,index=labels)\n",
    "print(df)"
   ]
  },
  {
   "cell_type": "markdown",
   "metadata": {},
   "source": [
    "Question 7:\n",
    "--\n",
    "__Write a Pandas program to select the 'name' and 'score' columns from the following DataFrame.__"
   ]
  },
  {
   "cell_type": "code",
   "execution_count": 53,
   "metadata": {},
   "outputs": [
    {
     "name": "stdout",
     "output_type": "stream",
     "text": [
      "    Name  Roll_Number Branch  Year\n",
      "i    abc            1    ECE     4\n",
      "ii   def            2    CSE     4\n",
      "iii  ghi            3     IT     4\n",
      "iv   jkl            4    EEE     4\n",
      "    Name  Roll_Number\n",
      "i    abc            1\n",
      "ii   def            2\n",
      "iii  ghi            3\n",
      "iv   jkl            4\n"
     ]
    }
   ],
   "source": [
    "import pandas as pd\n",
    "import numpy as np\n",
    "\n",
    "class_data={\"Name\":['abc','def','ghi','jkl'],\"Roll_Number\":[1,2,3,4],\"Branch\":['ECE','CSE','IT','EEE'],\"Year\":[4,4,4,4]}\n",
    "labels=['i','ii','iii','iv']\n",
    "df=pd.DataFrame(class_data,index=labels)\n",
    "print(df)\n",
    "print(df[['Name','Roll_Number']])"
   ]
  },
  {
   "cell_type": "markdown",
   "metadata": {},
   "source": [
    "Question 8:\n",
    "--\n",
    "__Write a Pandas program to join the two given dataframes along rows and assign all data.__"
   ]
  },
  {
   "cell_type": "code",
   "execution_count": 63,
   "metadata": {},
   "outputs": [
    {
     "name": "stdout",
     "output_type": "stream",
     "text": [
      "  Name  Roll_Number Branch  Year\n",
      "0  abc            1    ECE     4\n",
      "1  def            2    CSE     4\n",
      "2  ghi            3     IT     4\n",
      "3  jkl            4    EEE     4\n",
      "  Name  Roll_Number Branch  Year\n",
      "0  pqr            5   Mech     3\n",
      "1  stu            6  Civil     4\n",
      "2  vwx            7     AE     1\n",
      "3   yz            8    EIE     2\n",
      "  Name  Roll_Number Branch  Year\n",
      "0  abc            1    ECE     4\n",
      "1  def            2    CSE     4\n",
      "2  ghi            3     IT     4\n",
      "3  jkl            4    EEE     4\n",
      "0  pqr            5   Mech     3\n",
      "1  stu            6  Civil     4\n",
      "2  vwx            7     AE     1\n",
      "3   yz            8    EIE     2\n"
     ]
    }
   ],
   "source": [
    "import pandas as pd\n",
    "import numpy as np\n",
    "\n",
    "class1_data=pd.DataFrame({\"Name\":['abc','def','ghi','jkl'],\"Roll_Number\":[1,2,3,4],\"Branch\":['ECE','CSE','IT','EEE'],\"Year\":[4,4,4,4]})\n",
    "class2_data=pd.DataFrame({\"Name\":['pqr','stu','vwx','yz'],\"Roll_Number\":[5,6,7,8],\"Branch\":['Mech','Civil','AE','EIE'],\"Year\":[3,4,1,2]})\n",
    "print(class1_data)\n",
    "print(class2_data)\n",
    "print(pd.concat([class1_data, class2_data]))"
   ]
  },
  {
   "cell_type": "markdown",
   "metadata": {},
   "source": [
    "Question 9:\n",
    "--\n",
    "__Write a Pandas program to detect missing values of a given DataFrame. Display True or False.__"
   ]
  },
  {
   "cell_type": "code",
   "execution_count": 75,
   "metadata": {},
   "outputs": [
    {
     "name": "stdout",
     "output_type": "stream",
     "text": [
      "  Name  Roll_Number Branch  Year\n",
      "0  abc          1.0    ECE   4.0\n",
      "1  def          2.0    CSE   4.0\n",
      "2  ghi          3.0     IT   4.0\n",
      "3  NaN          NaN    EEE   NaN\n",
      "\n",
      "Missing values of given dataframe:\n",
      "    Name  Roll_Number  Branch   Year\n",
      "0  False        False   False  False\n",
      "1  False        False   False  False\n",
      "2  False        False   False  False\n",
      "3   True         True   False   True\n"
     ]
    }
   ],
   "source": [
    "import pandas as pd\n",
    "import numpy as np\n",
    "pd.set_option('display.max_rows', None)\n",
    "pd.set_option('display.max_columns', None)\n",
    "df =pd.DataFrame({\"Name\":['abc','def','ghi',np.NaN],\"Roll_Number\":[1,2,3,None],\"Branch\":['ECE','CSE','IT','EEE'],\"Year\":[4,4,4,None]})\n",
    "print(df)\n",
    "print(\"\\nMissing values of given dataframe:\")\n",
    "print(df.isna())"
   ]
  },
  {
   "cell_type": "markdown",
   "metadata": {},
   "source": [
    "Question 10:\n",
    "--\n",
    "__Write a Pandas program to create and display a one-dimensional array-like object containing an array of data.__"
   ]
  },
  {
   "cell_type": "code",
   "execution_count": 77,
   "metadata": {},
   "outputs": [
    {
     "name": "stdout",
     "output_type": "stream",
     "text": [
      "0    abc\n",
      "1    def\n",
      "2    ghi\n",
      "3    jkl\n",
      "dtype: object\n"
     ]
    }
   ],
   "source": [
    "import pandas as pd\n",
    "print(pd.Series(['abc','def','ghi','jkl']))"
   ]
  }
 ],
 "metadata": {
  "kernelspec": {
   "display_name": "Python 3",
   "language": "python",
   "name": "python3"
  },
  "language_info": {
   "codemirror_mode": {
    "name": "ipython",
    "version": 3
   },
   "file_extension": ".py",
   "mimetype": "text/x-python",
   "name": "python",
   "nbconvert_exporter": "python",
   "pygments_lexer": "ipython3",
   "version": "3.8.3"
  }
 },
 "nbformat": 4,
 "nbformat_minor": 4
}
