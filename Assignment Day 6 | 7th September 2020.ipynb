{
 "cells": [
  {
   "cell_type": "markdown",
   "metadata": {},
   "source": [
    "Question 1 :\n",
    "--\n",
    "__Assuming that we have some email addresses in the \"username@companyname.com\" format, please\n",
    "write a program to print the company name of a given email address. Both user names and company\n",
    "names are composed of letters only.\n",
    "Input Format:\n",
    "The first line of the input contains an email address.\n",
    "Output Format:\n",
    "Print the company name in a single line.\n",
    "Example;\n",
    "Input:\n",
    "john@google.com\n",
    "Output:\n",
    "google.__"
   ]
  },
  {
   "cell_type": "code",
   "execution_count": 8,
   "metadata": {},
   "outputs": [
    {
     "name": "stdout",
     "output_type": "stream",
     "text": [
      "john@google.com\n",
      "google"
     ]
    }
   ],
   "source": [
    "email=input()\n",
    "for i in range(email.find(\"@\")+1,email.find(\".\")):\n",
    "    print(email[i],end=\"\")"
   ]
  },
  {
   "cell_type": "markdown",
   "metadata": {},
   "source": [
    "Question 2 :\n",
    "--\n",
    "__Write a program that accepts a comma-separated sequence of words as input and prints the words in a\n",
    "comma-separated sequence after sorting them alphabetically.\n",
    "Input Format:\n",
    "The first line of input contains words separated by the comma.\n",
    "Output Format:\n",
    "Print the sorted words separated by the comma.\n",
    "Example:\n",
    "Input:\n",
    "without,hello,bag,world\n",
    "Output:\n",
    "bag,hello,without,world__"
   ]
  },
  {
   "cell_type": "code",
   "execution_count": 5,
   "metadata": {},
   "outputs": [
    {
     "name": "stdout",
     "output_type": "stream",
     "text": [
      "without,hello,bag,world\n",
      "bag,hello,without,world\n"
     ]
    }
   ],
   "source": [
    "words=input().split(',')\n",
    "a=sorted(words)\n",
    "print(','.join(a))"
   ]
  },
  {
   "cell_type": "markdown",
   "metadata": {},
   "source": [
    "Question 3:\n",
    "--\n",
    "__Create your own Jupyter Notebook for Sets.__"
   ]
  },
  {
   "cell_type": "markdown",
   "metadata": {},
   "source": [
    "Sets are unordered and unindexed, so every time the appearing order for the items cannot be the same, therefore the items in the set are cannot referred by index or key. Set only have unique element, no duplicate values."
   ]
  },
  {
   "cell_type": "code",
   "execution_count": 2,
   "metadata": {},
   "outputs": [],
   "source": [
    "s1={1,2,3,'a','b','c'}"
   ]
  },
  {
   "cell_type": "code",
   "execution_count": 3,
   "metadata": {},
   "outputs": [
    {
     "name": "stdout",
     "output_type": "stream",
     "text": [
      "{1, 2, 3, 'a', 'b', 'c'}\n",
      "{1, 2, 3, 100, 'a', 'b', 'c'}\n"
     ]
    }
   ],
   "source": [
    "#to add one item to a set add() method is used\n",
    "print(s1)\n",
    "s1.add(100)\n",
    "print(s1)"
   ]
  },
  {
   "cell_type": "code",
   "execution_count": 5,
   "metadata": {},
   "outputs": [
    {
     "name": "stdout",
     "output_type": "stream",
     "text": [
      "{1, 2, 3, 100, 'e', 'a', 200, 'b', 'd', 'c'}\n",
      "{1, 2, 3, 100, 'e', 'a', 200, 'b', 'd', 'c', 'f'}\n",
      "{1, 2, 3, 100, 'e', 'a', 200, 'b', 'd', 'c', 'f'}\n",
      "{1, 2, 3, 100, 'e', 'a', 200, 'b', 'd', 'c'}\n",
      "{'def', 1, 2, 3, 100, 'e', 'a', 200, 'b', 'd', 'c', 'ghi', 'abc'}\n",
      "s4= {'def', 1, 2, 3, 100, 'e', 'a', 200, 'b', 'd', 'c', 'ghi', 'abc'}\n",
      "set()\n",
      "{1, 2, 3, 100, 'e', 'a', 200, 'b', 'd', 'c'}\n",
      "13\n"
     ]
    }
   ],
   "source": [
    "#to add more than 1 item update() method is used\n",
    "print(s1)\n",
    "s1.update('abc','def')#adds multiple items in the set\n",
    "print(s1)\n",
    "s1.add(200)#adds one item in the set\n",
    "print(s1)\n",
    "s1.remove('f')#removes the desired item\n",
    "print(s1)\n",
    "s2={'abc','def','ghi'}\n",
    "print(s1.union(s2))#joins 2 sets\n",
    "s3=s1.union(s2)\n",
    "s4=s3.copy()#creates a duplicate set\n",
    "print(\"s4=\",s4)\n",
    "s2.clear()#clears entire items of the set\n",
    "print(s2)\n",
    "print(s1.intersection(s4))#prints the common elements in both sets\n",
    "print(len(s4))#prints the length of the set"
   ]
  },
  {
   "cell_type": "markdown",
   "metadata": {},
   "source": [
    "Question 4:\n",
    "--\n",
    "__Given a list of n-1 numbers ranging from 1 to n, your task is to find the missing number. There are no\n",
    "duplicates.\n",
    "Input Format:\n",
    "The first line contains n-1 numbers with each number separated by a space.\n",
    "Output Format:\n",
    "Print the missing number\n",
    "Example:\n",
    "Input:\n",
    "1 2 4 6 3 7 8\n",
    "Output:\n",
    "5\n",
    "Explanation:\n",
    "In the above list of numbers 5 is missing and hence 5 is the input__"
   ]
  },
  {
   "cell_type": "code",
   "execution_count": 4,
   "metadata": {},
   "outputs": [
    {
     "name": "stdout",
     "output_type": "stream",
     "text": [
      "1 2 4 6 3 7 8\n",
      "5\n"
     ]
    }
   ],
   "source": [
    "def find_missing(m):\n",
    "    for i in range(m[0],m[-1]):\n",
    "        if i not in m:\n",
    "            return i\n",
    "numbers=input().split(' ')\n",
    "l=[]\n",
    "for n in numbers:\n",
    "    l.append(int(n))\n",
    "q=find_missing(sorted(l))\n",
    "print(q)"
   ]
  },
  {
   "cell_type": "markdown",
   "metadata": {},
   "source": [
    "Question 5:\n",
    "--\n",
    "__With a given list L, write a program to print this list L after removing all duplicate values with original order\n",
    "reserved.\n",
    "Example:\n",
    "If the input list is\n",
    "12 24 35 24 88 120 155 88 120 155\n",
    "Then the output should be\n",
    "12 24 35 88 120 155\n",
    "Explanation:\n",
    "Third, the seventh and ninth element of the list L has been removed because it was already present.\n",
    "Input Format:\n",
    "In one line take the elements of the list L with each element separated by a space.\n",
    "Output Format:\n",
    "Print the elements of the modified list in one line with each element separated by a space.\n",
    "Example:\n",
    "Input:\n",
    "12 24 35 24\n",
    "Output:\n",
    "12 24 35__"
   ]
  },
  {
   "cell_type": "code",
   "execution_count": 5,
   "metadata": {},
   "outputs": [
    {
     "name": "stdout",
     "output_type": "stream",
     "text": [
      "12 24 35 24 88 120 155 88 120 155\n",
      "12 24 35 88 120 155 "
     ]
    }
   ],
   "source": [
    "def remove_duplicate(list1):\n",
    "    list2=[]\n",
    "    for i in list1:\n",
    "        if i not in list2:\n",
    "            list2.append(i)\n",
    "    for j in list2:\n",
    "        print(j,end=' ')\n",
    "input1=input().split(' ')\n",
    "list1=[]\n",
    "for q in input1:\n",
    "    list1.append(int(q))\n",
    "remove_duplicate(list1)"
   ]
  }
 ],
 "metadata": {
  "kernelspec": {
   "display_name": "Python 3",
   "language": "python",
   "name": "python3"
  }
 },
 "nbformat": 4,
 "nbformat_minor": 4
}
